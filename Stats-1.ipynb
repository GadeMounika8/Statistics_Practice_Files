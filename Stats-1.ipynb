{
 "cells": [
  {
   "cell_type": "markdown",
   "id": "2622088c",
   "metadata": {},
   "source": [
    "# Statistics"
   ]
  },
  {
   "cell_type": "markdown",
   "id": "3971a0ee",
   "metadata": {},
   "source": [
    "--> There are Two types of Statistical Methods:\n",
    "    \n",
    "    1. Descriptive Statistics\n",
    "    2. Inferenrcial Statistics"
   ]
  },
  {
   "cell_type": "markdown",
   "id": "3f54111f",
   "metadata": {},
   "source": [
    "# Statistics:\n",
    "    \n",
    "Representation of Data interms of graphs (or) Tables and apllying some statistical methods to get interpretations/Results."
   ]
  },
  {
   "cell_type": "markdown",
   "id": "68dee0aa",
   "metadata": {},
   "source": [
    "# 1. Descriptive Statistics:\n",
    "\n",
    "Analyzation of Past data and getting the patterns from past data which are useful for present (or) Future Predictions."
   ]
  },
  {
   "cell_type": "markdown",
   "id": "5d45e805",
   "metadata": {},
   "source": [
    "# Need of Descriptive Statistics:"
   ]
  },
  {
   "cell_type": "markdown",
   "id": "91a173eb",
   "metadata": {},
   "source": [
    "Descriptive Statistics needs for the following Purposes:\n",
    "    \n",
    "1. To Process the Data.\n",
    "2. To Impute Null Values.\n",
    "3. To Identify Outliers and treating Outliers."
   ]
  },
  {
   "cell_type": "markdown",
   "id": "217e516a",
   "metadata": {},
   "source": [
    "# Measures of Descriptive Statistics:\n",
    "    \n",
    "1. Measures of Central Tendency\n",
    "2. Measures of Disperssion/Deviation\n",
    "3. Measures of Shape\n",
    "4. Measures of relation"
   ]
  },
  {
   "cell_type": "markdown",
   "id": "37b9c001",
   "metadata": {},
   "source": [
    "# 1. Measures of Central Tendency:\n",
    "    \n",
    "i. Mean - Sum of all Observations/Number of Observations\n",
    "\n",
    "ii. Median - Midle Value | It divides the data into two Equal Parts.\n",
    "\n",
    "iii. Mode - More oftenly occuring Data (or) Value | Highly Repeated Value."
   ]
  },
  {
   "cell_type": "markdown",
   "id": "a088b95b",
   "metadata": {},
   "source": [
    "# Note:\n",
    "    \n",
    "--> Mean is effected by the Outliers. but, Not Median.\n",
    "\n",
    "--> So that, if there are many Outliers in the Data, do not Impute with the Mean Values."
   ]
  },
  {
   "cell_type": "markdown",
   "id": "ec7bd908",
   "metadata": {},
   "source": [
    "# Uses of Measures of Central Tendency (i.e., Mean, Median and Mode):\n",
    "\n",
    "1. Imputation of Null Values\n",
    "2. Identifying the Distribution (i.e., Measures os Shape)"
   ]
  },
  {
   "cell_type": "markdown",
   "id": "b8995575",
   "metadata": {},
   "source": [
    "# Note:\n",
    "    \n",
    "--> If Mean > Median (or) Mean < Median, it means the data has More Outliers and the Distributionis not a Normal Distribution. It means Left Skewed or Right Skewed.\n",
    "\n",
    "--> So that, there is a need to change these distribution into the Normal Distribution. It is called as Data Preprocessing. Therefore, We can get Best Results in Machine Learning.\n",
    "\n",
    "--> If Those Outliers are Removed, then the Mean = Median approximately.\n",
    "\n",
    "--> If Mean = Median, then there is no Outliers and it is a Normal Distribution. so that, wil get best Results in Machine Learning."
   ]
  },
  {
   "cell_type": "markdown",
   "id": "08e4869f",
   "metadata": {},
   "source": [
    "# Numerical Variable:\n",
    "    \n",
    "1. Imputation of Null Values with Mean/Median.\n",
    "\n",
    "2. Need of Distribution for Numerical Variable."
   ]
  },
  {
   "cell_type": "markdown",
   "id": "d4d53ead",
   "metadata": {},
   "source": [
    "# Categorical Variable:\n",
    "    \n",
    "1. Imputation of Null Values with Mode.\n",
    "\n",
    "2. No Need of Distribution for Categorical Variable."
   ]
  },
  {
   "cell_type": "markdown",
   "id": "854a3b5f",
   "metadata": {},
   "source": [
    "# Distribution:\n",
    "    \n",
    "describes how values are distributed for a field (or) Variable. "
   ]
  },
  {
   "cell_type": "markdown",
   "id": "8fea88a5",
   "metadata": {},
   "source": [
    "--> We can Identify the Distribution by using Mean and Median.\n",
    "\n",
    "--> We can Identify the Normal and non-Normal Distribution by using Central Tendencies, Measures of Shape and Measures of Disperssion."
   ]
  },
  {
   "cell_type": "markdown",
   "id": "01e5d50d",
   "metadata": {},
   "source": [
    "# Note:\n",
    "    \n",
    "--> We can get Mode of Categorical Variable in Two ways in Jupyter Note Book:\n",
    "    \n",
    "    i. Using mode()\n",
    "    ii. Using value_counts()"
   ]
  },
  {
   "cell_type": "markdown",
   "id": "2d565d67",
   "metadata": {},
   "source": [
    "# Uses of Mean, Median and Mode:"
   ]
  },
  {
   "cell_type": "markdown",
   "id": "78f4927d",
   "metadata": {},
   "source": [
    "--> Mean, Median and Mode are used to Impute the Null Values in the Data.\n",
    "\n",
    "--> To Identify the Distribution with the help of Mean and Median for Numerical Variable. Mode for Categorical Variable.\n",
    "\n",
    "--> If mean > median (or) mean < median, then Huge number of Outliers are there.\n",
    "\n",
    "--> If mean = median, then there is no outliers.If we have Outliers also, there is no impact on our data."
   ]
  },
  {
   "cell_type": "markdown",
   "id": "054dbd01",
   "metadata": {},
   "source": [
    "# 2. Measures of Dispersion:"
   ]
  },
  {
   "cell_type": "markdown",
   "id": "ca0d8e26",
   "metadata": {},
   "source": [
    "--> Dispersion means Deviation.\n",
    "\n",
    "--> To calculate the deviation in your data, you can use measures of Dispersion concept.\n",
    "\n",
    "--> We have Three main concepts in Measures of Dispersion."
   ]
  },
  {
   "cell_type": "markdown",
   "id": "dae84f13",
   "metadata": {},
   "source": [
    "i. Range - Highest Value - Lowest Value\n",
    "\n",
    "ii. Standard Deviation - Distance between Sample observation (or) Original Point to mean \n",
    "\n",
    "iii. Variance "
   ]
  },
  {
   "cell_type": "markdown",
   "id": "70f4045a",
   "metadata": {},
   "source": [
    "--> In ML, SD is called Root Mean Squared Error.\n",
    "\n",
    "--> In ML, Variance is called as Mean Squared Error.\n",
    "\n",
    "--> In ML, These are two best Metrics.\n",
    "\n",
    "--> Standard Deviation & Variance both are same."
   ]
  },
  {
   "cell_type": "markdown",
   "id": "2c0ff6f9",
   "metadata": {},
   "source": [
    "# Use of Standard Deviation:"
   ]
  },
  {
   "cell_type": "markdown",
   "id": "f8c9f62e",
   "metadata": {},
   "source": [
    "--> Standard Deviation(SD) is also used to identifying of the distribution some times."
   ]
  },
  {
   "cell_type": "markdown",
   "id": "17674c5a",
   "metadata": {},
   "source": [
    "--> Always mean does not work.So that, in these situations, we should use standard deviation."
   ]
  },
  {
   "cell_type": "markdown",
   "id": "ccb41577",
   "metadata": {},
   "source": [
    "--> If Standard Deviation is nearer to 0 then it is perfect model in ML.\n",
    "\n",
    "--> Standard Deviation is also called as root means squared error in ML.\n",
    "\n",
    "--> Standard Deviation should be minimum.It means, distance between sample observation to mean should be minimum."
   ]
  },
  {
   "cell_type": "markdown",
   "id": "56b33a10",
   "metadata": {},
   "source": [
    "--> If Mean is approximately equal to Median, so that, there is no much outliers.Therefore, Standard Deviation is nearly equal to 0."
   ]
  },
  {
   "cell_type": "markdown",
   "id": "8771ca37",
   "metadata": {},
   "source": [
    "--> If mean > median, then it is called as Positive Skewness.It means huge Outliers in Right side.\n",
    "\n",
    "--> If Standard Deviation > Mean, then the data has more Outliers and These outliers are impacting more."
   ]
  },
  {
   "cell_type": "markdown",
   "id": "72cbf627",
   "metadata": {},
   "source": [
    "# Note:\n",
    "    \n",
    "--> If SD is equal to or greater than Mean, then there are huge number of Outliers.And these Outliers are very very impacted on data.\n",
    "\n",
    "--> If Mean > Median then there are an outliers in right side.\n",
    "\n",
    "--> For Numerical Data only, the Distribution is drawn from mean, median and Standard Deviation.\n",
    "\n",
    "--> For Categorical data no need of Distribution.\n",
    "\n",
    "--> We can not conclude whether the Outliers are there or not depending upon mean, median and Standard Deviation, but if we know Positive Skewness, negative Skewness, it can be possible to know Outliers are there or not.\n",
    "\n",
    "--> We can Identify Outliers with the help of IQR(Inter Quartile Range).\n",
    "\n",
    "--> We can Identify Distribution of the column with the help of Shape.\n",
    "\n",
    "--> We can Identify Distribution from mean, median and Standard Deviation.\n",
    "\n",
    "--> We can Identify the Distribution and Outliers by using describe() function in Pandas.\n",
    "\n",
    "--> Three measures are very important to identify the Distribution, Those are:\n",
    "    \n",
    "    1. Measures of Central Tendency 2. Measures of Deviation 3. Measures of Shape."
   ]
  },
  {
   "cell_type": "markdown",
   "id": "65352f66",
   "metadata": {},
   "source": [
    "# 3. Meaures of Shape:"
   ]
  },
  {
   "cell_type": "markdown",
   "id": "3f4302e7",
   "metadata": {},
   "source": [
    "--> Measures of Shape is used to find (or) calculate the distribution directly with the help of skewness.\n",
    "\n",
    "--> Skewness is nothing but scatteredness of your data.\n",
    "\n",
    "--> We can check the shape using skewness.Whether the Relation is Positive (or) Negative (or) Normal Distribution.But skewness value can be calculated by using mean and median."
   ]
  },
  {
   "cell_type": "markdown",
   "id": "fe604785",
   "metadata": {},
   "source": [
    "1. If Mean > Median, then it is called as Positive skewness.If theoritically skewness > 0 and Practically skewness > 0.5, then it is called as Positive Skewness.\n",
    "\n",
    "2. If Mean < Median, then it is called as Negative Skewness.If theoritically skewness < 0 and Practically skewness < 0.5, then it is called as Negative Skewness.\n",
    "\n",
    "3. If Mean = Median, then it is called as Symmetrical Skewness.If theoritically skewness is approximately equal to 0 and Practically skewness is in between -0.5 to 0.5, it is called as Symmetric Skewness (or) Normal Curve."
   ]
  },
  {
   "cell_type": "markdown",
   "id": "75172160",
   "metadata": {},
   "source": [
    "--> Negative Skewness and Positive Skewness have more Outliers and those Outliers are more impacting on the data.\n",
    "\n",
    "--> Positive Skewness has no Outliers (or) Less Outliers and those Outliers are not impacting on the data."
   ]
  },
  {
   "cell_type": "markdown",
   "id": "f515921b",
   "metadata": {},
   "source": [
    "# Identifying (or) Checking the Outliers with the help of IQR Concept:"
   ]
  },
  {
   "cell_type": "code",
   "execution_count": null,
   "id": "afe57db7",
   "metadata": {},
   "outputs": [],
   "source": [
    "--> If your data Points are equally divided into four parts, then those are called as Quartiles.\n",
    "\n",
    "--> In boxplot, we have Quartiles.\n",
    "\n",
    "1. LB - Lower Bound (or) Lower Extreme \n",
    "\n",
    "2. Q1 - First Quartile - 25%\n",
    "\n",
    "3. Q2 - Median - 50%\n",
    "\n",
    "4. Q3 - Third Quartile - 75%\n",
    "\n",
    "5. UB - Upper Bound (or) Upper Extreme"
   ]
  },
  {
   "cell_type": "markdown",
   "id": "60c0d896",
   "metadata": {},
   "source": [
    "# Note:\n",
    "    \n",
    "--> We have all these values in describe() function in Pandas Library.\n",
    "\n",
    "--> In boxplot, Data Points which are lower than Lower Bound and Greater than Upper Bound which are called as Outliers.\n",
    "\n",
    "--> The datapoints which are far from the mean is called Outliers."
   ]
  },
  {
   "cell_type": "markdown",
   "id": "f38a24da",
   "metadata": {},
   "source": [
    "--> To calculate UB and LB is:\n",
    "    \n",
    "UB = Q3 + (1.5 * IQR)\n",
    "\n",
    "LB = Q3 - (1.5 * IQR)"
   ]
  },
  {
   "cell_type": "markdown",
   "id": "b3dad891",
   "metadata": {},
   "source": [
    "--> IQR concept is a Statistical method to identify the Outliers in the data.\n",
    "\n",
    "--> IQR - Inter Quartile Range --> Q3 - Q1\n",
    "\n",
    "--> With the help of IQR, we can identify Outliers, UB, LB, how many Outliers in the data, is there any impact of Outliers on the data."
   ]
  },
  {
   "cell_type": "markdown",
   "id": "9d833a3c",
   "metadata": {},
   "source": [
    "# Note:\n",
    "\n",
    "--> There is no built method to find Outliers.\n",
    "\n",
    "--> There is an in-built method for z-score."
   ]
  },
  {
   "cell_type": "markdown",
   "id": "17f93cc6",
   "metadata": {},
   "source": [
    "# Note:\n",
    "    \n",
    "--> In Statistics terminology, Column can be called as Variable and Row can be called as Observation."
   ]
  },
  {
   "cell_type": "markdown",
   "id": "02f02985",
   "metadata": {},
   "source": [
    "# 4. Measures of relation:"
   ]
  },
  {
   "cell_type": "markdown",
   "id": "ac904674",
   "metadata": {},
   "source": [
    "--> relation between two numerical variables/columns is called 'correlation'.\n",
    "\n",
    "--> It is denoted with \"r\"."
   ]
  },
  {
   "cell_type": "markdown",
   "id": "1c4cb463",
   "metadata": {},
   "source": [
    "# Types of Correlation:"
   ]
  },
  {
   "cell_type": "markdown",
   "id": "9f98a8c8",
   "metadata": {},
   "source": [
    "1. Positive Correlation\n",
    "\n",
    "2. Negative Correlation"
   ]
  },
  {
   "cell_type": "markdown",
   "id": "77ae58e2",
   "metadata": {},
   "source": [
    "--> The change in one variable, it is because of other variables.\n",
    "\n",
    "--> If the change in one variable, other variable will also be changed.\n",
    "\n",
    "--> Change in one variable that leads to change in other variable is called having 'relation'.\n",
    "\n",
    "--> If one variable changes and other variable is stable then there is no relation between them.\n",
    "\n",
    "--> If we have opposite direction, in the change of variable is called as 'Negative Correlation'.\n",
    "\n",
    "eg: if x increases, y decreases and if x decreases, y increases.\n",
    "    \n",
    "--> If we have same direction in the change of variables is called Positive Correlation.\n",
    "\n",
    "eg: If x increases, y increases and if x decreases, y decreases."
   ]
  },
  {
   "cell_type": "markdown",
   "id": "10076a78",
   "metadata": {},
   "source": [
    "# Theoritically,\n",
    "\n",
    "1. if r < 0 - Negative Correlation\n",
    "\n",
    "2. if r > 0 - Positive Correlation\n",
    "\n",
    "3. if r ~= 0 - No relation"
   ]
  },
  {
   "cell_type": "markdown",
   "id": "1985581f",
   "metadata": {},
   "source": [
    "# Practically,\n",
    "\n",
    "1. +0.5 to 1 - Positive Correlation(+ve\"r\")\n",
    "\n",
    "2. -1 to -0.5 - Negative Correlation(-ve\"r\")\n",
    "\n",
    "3. -0.5 to 0.5 - No Correlation"
   ]
  },
  {
   "cell_type": "markdown",
   "id": "e6d1cfcb",
   "metadata": {},
   "source": [
    "--> We can identify relations by using heatmap.\n",
    "\n",
    "--> It is not possible for multi variable analysis relation by using correlation.at the same time, it is possible only for numerical columns.\n",
    "\n",
    "--> If we get correlation = 0.7, then 70% of strength is there between two variables."
   ]
  },
  {
   "cell_type": "markdown",
   "id": "d5abe256",
   "metadata": {},
   "source": [
    "# Note:"
   ]
  },
  {
   "cell_type": "markdown",
   "id": "c95f0257",
   "metadata": {},
   "source": [
    "# Muti-Collinearity:"
   ]
  },
  {
   "cell_type": "markdown",
   "id": "d2964a00",
   "metadata": {},
   "source": [
    "--> If there is a relation between the two independent variables is called as multi-collinearity.\n",
    "\n",
    "--> If there are multi-collinearity variables, we should remove them to get better accuracy of the Machine Learning Model."
   ]
  },
  {
   "cell_type": "markdown",
   "id": "5908d0b9",
   "metadata": {},
   "source": [
    "--> To identify (or) the multi-colinearity we have Variance Inflation Factor(VIF).\n",
    "\n",
    "--> If VIF < 10, then the column is not a Multi-Collinearity column.\n",
    "\n",
    "--> If VIF is greater than or equal to 10, then the column is a Multi-Collinearity column."
   ]
  },
  {
   "cell_type": "markdown",
   "id": "876cc5fc",
   "metadata": {},
   "source": [
    "--> with the help of VIF only, ML first algorithm \"Linear Regression\" is defined.\n",
    "\n",
    "--> VIF can be identified with the help of Correlation heatmap or else direct method called Variance Inflation Factor."
   ]
  },
  {
   "cell_type": "markdown",
   "id": "8fbdacfd",
   "metadata": {},
   "source": [
    "--> The relation should be in between dependent and independent variables only.\n",
    "\n",
    "--> so far, Outliers, Multi-Collinearity will effect the distribution of data, Skewing of Data the and it effects the ML Model."
   ]
  },
  {
   "cell_type": "markdown",
   "id": "871f73e0",
   "metadata": {},
   "source": [
    "# Note:\n",
    "    \n",
    "--> If all Variables (or) Column values > 10, then all are having Multi-Collinearity.\n",
    "\n",
    "--> feature importance means selecting features from whole data.\n",
    "\n",
    "--> We can Calculate feature importance with the help of multi-Collinearity or Correlation.\n",
    "\n",
    "--> First, we need to identify dependent variable and independent variables in a given dataframe.\n",
    "\n",
    "--> Dependent Variable is constant and it has single variable.\n",
    "\n",
    "--> DataFrame contains Multiple Independent Variables.\n",
    "\n",
    "--> From Multiple Independent Variables we need to select Best Variables using Correlation, Multillinearity, z - test, etc."
   ]
  },
  {
   "cell_type": "markdown",
   "id": "1268f759",
   "metadata": {},
   "source": [
    "# Probability:"
   ]
  },
  {
   "cell_type": "markdown",
   "id": "96d001cd",
   "metadata": {},
   "source": [
    "--> Probability is the chance of Occuring event (or) non occurence of event.In both ways, we can calculate the Probability.\n",
    "\n",
    "--> Probability is the best measure to calculate whether a work/event happened or not."
   ]
  },
  {
   "cell_type": "markdown",
   "id": "ea09ec55",
   "metadata": {},
   "source": [
    "# Types of Probabilities:"
   ]
  },
  {
   "cell_type": "markdown",
   "id": "85e94f42",
   "metadata": {},
   "source": [
    "1. Joint Probability\n",
    "\n",
    "2. Marginal Probability\n",
    "\n",
    "3. Conditional Probability\n",
    "\n",
    "4. Base Theorem(Extention of Conditional Probability)\n",
    "\n",
    "5. Naive Bayes Algorithm (using three types of Probability)"
   ]
  },
  {
   "cell_type": "markdown",
   "id": "6d027b8e",
   "metadata": {},
   "source": [
    "--> By using Conditional Probability, we can create our own algorithm in ML.So that, we can understand how conditional Probability is important (or) useful to create such algorithms.At last we get metrics is also important to identify whether your model is Performing better or not.\n",
    "\n",
    "--> confusion matrix is important for ML model is Performing Better or not."
   ]
  },
  {
   "cell_type": "markdown",
   "id": "3c20dc0e",
   "metadata": {},
   "source": [
    "# Probability Defination:\n",
    "    \n",
    "--> Mathematical expression of chance of occurence or non-occurence of an Event.\n",
    "\n",
    "--> Occurence means something that happens or takes place.\n",
    "\n",
    "--> non-occurence means something that not happens or not takes place.\n",
    "\n",
    "--> Outcomes/Events are nothing but Results.\n",
    "\n",
    "--> Task is nothing but Experiment.Task is having two (or) more Outcomes.\n",
    "\n",
    "--> Sample Space has all Outcomes in a flower braces.\n",
    "\n",
    "--> Always we do Probability for an Event not for Sample Space.\n",
    "\n",
    "--> If you calculate the Probability for Sample Space, always the Probability is 1 only.\n",
    "\n",
    "P(S) = 1"
   ]
  },
  {
   "cell_type": "markdown",
   "id": "b585f2b1",
   "metadata": {},
   "source": [
    "# Two Properties of Probability:"
   ]
  },
  {
   "cell_type": "markdown",
   "id": "b2e0f2fa",
   "metadata": {},
   "source": [
    "1. 0 <= P(E) <= 1\n",
    "\n",
    "2. Summation of P(E) = 1 = P(S)"
   ]
  },
  {
   "cell_type": "markdown",
   "id": "c51d70bb",
   "metadata": {},
   "source": [
    "# Mathematical Formula for Probability:"
   ]
  },
  {
   "cell_type": "markdown",
   "id": "4925824e",
   "metadata": {},
   "source": [
    "Probability of an Event = Favourable Outcome/total Number of Outcomes."
   ]
  },
  {
   "cell_type": "markdown",
   "id": "2e5cabd1",
   "metadata": {},
   "source": [
    "Note:\n",
    "    \n",
    "1. for Inferential Statistics, Probability is important.\n",
    "\n",
    "2. No need to calculate individual Probabilities and no need to use formula to calculate Probability for large number of Rows and Columns, instead of these, Naive Bayes theorem and direct functions are there.  \n",
    "    \n",
    "    "
   ]
  },
  {
   "cell_type": "markdown",
   "id": "7e4f2d05",
   "metadata": {},
   "source": [
    "--> The Basic Algorithm is Conditional Probability algorithm.\n",
    "\n",
    "--> The Extension of conditional Probability algorithm is Naive Base Algorithm.\n",
    "\n",
    "--> In Conditional Probability algorithm, we can calculate accuracy with only One Variable whereas in Base Theorem, we can calculate accuracy by combining all Variables.So that, accuracy is increases.\n",
    "\n",
    "--> It is Supervised Machine Learning, If the DataFrame has Dependent Variable.\n",
    "\n",
    "--> It is Unsupervised Machine Learning, If the DataFrame has no Dependent Variable.\n",
    "\n",
    "--> If Probability Prediction < 0.5 means NO and >= 0.5.\n",
    "\n",
    "--> Definately, client will give you the Dependent Variable to start the Project."
   ]
  },
  {
   "cell_type": "markdown",
   "id": "942bf0e5",
   "metadata": {},
   "source": [
    "# 1. Marginal Probability:"
   ]
  },
  {
   "cell_type": "markdown",
   "id": "7001ba8c",
   "metadata": {},
   "source": [
    "--> Probability describing a Single Attribute."
   ]
  },
  {
   "cell_type": "markdown",
   "id": "5f49422f",
   "metadata": {},
   "source": [
    "# 2. Joint Probability:"
   ]
  },
  {
   "cell_type": "markdown",
   "id": "b7a28ca6",
   "metadata": {},
   "source": [
    "--> Probability describing a combination of Attribute."
   ]
  },
  {
   "cell_type": "markdown",
   "id": "29829210",
   "metadata": {},
   "source": [
    "# 3. Conditional Probability:"
   ]
  },
  {
   "cell_type": "markdown",
   "id": "0d23bf3f",
   "metadata": {},
   "source": [
    "1. Probability of A occuring given that B has occured.\n",
    "\n",
    "2. The Sample Space is restricted to a single row or column.\n",
    "\n",
    "3. This makes rest of the SampleSpace irrelevant.\n",
    "\n",
    "Probability, i.e., P(A|B) = P(A and B)/P(B).\n",
    "\n",
    "Note that, this is the ratio of Joint Probability to Marginal Probability."
   ]
  },
  {
   "cell_type": "markdown",
   "id": "c2fe2646",
   "metadata": {},
   "source": [
    "# Measures of Statistics(i.e., Data types of Statistics):"
   ]
  },
  {
   "cell_type": "markdown",
   "id": "72d24d07",
   "metadata": {},
   "source": [
    "--> At the End of data Processing, if we want to give the data to Machine Learning Model, the data should be in Numerical data type, may be Discrete (or) Contineous.\n",
    "\n",
    "--> Machine Learning Model can not understand Categorical Data.So that, we should convert Categorical Data into Numerical Data.\n",
    "\n",
    "--> eg: if we have Gender Column.If we send Gender Column to Machine Learning Model, ML Model does not understand because Gender Column is a Categorical Column.So that, we need to convert Categorical Variable into Numerical Variable by using Label Encoding, One Hot Encoding/dummies Sections or mapping sections. "
   ]
  },
  {
   "cell_type": "markdown",
   "id": "62253797",
   "metadata": {},
   "source": [
    "In Statistics, We have two types of Variables.\n",
    "    \n",
    "1. Descrete Variable (or) Categorical Variable (or) Qualitative Variable --> Non-measurements --> eg: Beauty, Honesty\n",
    "\n",
    "2. Contineous Variable (or) Numerical Variables (or) Quantitative Variable --> Measurements --> eg: Height, Weight"
   ]
  },
  {
   "cell_type": "markdown",
   "id": "8dd52981",
   "metadata": {},
   "source": [
    "# Descrete Variables:\n",
    "    \n",
    "Which can be Countable"
   ]
  },
  {
   "cell_type": "markdown",
   "id": "f8fe3c4f",
   "metadata": {},
   "source": [
    "# Contineous Variables:\n",
    "    \n",
    "Which are Measurable"
   ]
  },
  {
   "cell_type": "markdown",
   "id": "949d41ed",
   "metadata": {},
   "source": [
    "# Types of Descrete Variables:"
   ]
  },
  {
   "cell_type": "markdown",
   "id": "ba6eaff5",
   "metadata": {},
   "source": [
    "1. Nominal \n",
    "\n",
    "2. Ordinal"
   ]
  },
  {
   "cell_type": "markdown",
   "id": "1236c723",
   "metadata": {},
   "source": [
    "# Types of Contineous Variables:"
   ]
  },
  {
   "cell_type": "markdown",
   "id": "515f7310",
   "metadata": {},
   "source": [
    "1. Ratio\n",
    "\n",
    "2. Scale/Interval"
   ]
  },
  {
   "cell_type": "markdown",
   "id": "58d64e79",
   "metadata": {},
   "source": [
    "# Note:\n",
    "    \n",
    "Data Should be in ints (or) floats before giving to ML Model."
   ]
  },
  {
   "cell_type": "markdown",
   "id": "acef8798",
   "metadata": {},
   "source": [
    "# How can we Check whether given variable is Discrete or Contineous Variable"
   ]
  },
  {
   "cell_type": "markdown",
   "id": "5b0aba40",
   "metadata": {},
   "source": [
    "--> With the help of histogram, it is possible actually.\n",
    "\n",
    "--> With the help of count plot, we can identify the given Variable is discrete (or) contineous."
   ]
  },
  {
   "cell_type": "markdown",
   "id": "1d6eab89",
   "metadata": {},
   "source": [
    "Note:\n",
    "    \n",
    "--> In discrete variable, if we draw count plot we will get equal space between bars.\n",
    "\n",
    "--> In contineous variable, if we draw count plot we will get unequal (or) messy plot."
   ]
  },
  {
   "cell_type": "markdown",
   "id": "2e9ce216",
   "metadata": {},
   "source": [
    "# Note:"
   ]
  },
  {
   "cell_type": "markdown",
   "id": "c2025028",
   "metadata": {},
   "source": [
    "--> If we have only two categories in category column, it is better to do Label Encoding.\n",
    "\n",
    "--> If we can do get_dummies/one-hot encoding, for multiple categories in a category column.\n",
    "\n",
    "--> These are the techniques we are performing to convert Categorical Column into Numerical Column(i.e., ints (or) floats) before given to Machine Learning Model.Because Machine Learning only understands Numerical Data."
   ]
  },
  {
   "cell_type": "markdown",
   "id": "473651be",
   "metadata": {},
   "source": [
    "--> The combination of x variable and respective Probabilities is called Probability Distribution and it is denoted by P(x).\n",
    "\n",
    "--> In Probability Distribution each Probability is called Probability Distribution Function(pdf)."
   ]
  },
  {
   "cell_type": "markdown",
   "id": "f974a2f0",
   "metadata": {},
   "source": [
    "1. Probability distribution function - P(x)\n",
    "\n",
    "2. Cumulative distribution function - F(x)"
   ]
  },
  {
   "cell_type": "markdown",
   "id": "55378300",
   "metadata": {},
   "source": [
    "--> We have direct in-built methods to calculate cumulative distribution function."
   ]
  },
  {
   "cell_type": "markdown",
   "id": "610ca5a7",
   "metadata": {},
   "source": [
    "--> Formula for mean of pdf is Sumation of x.P(x)"
   ]
  },
  {
   "cell_type": "markdown",
   "id": "5a00d6e9",
   "metadata": {},
   "source": [
    "# Types of Distributions:"
   ]
  },
  {
   "cell_type": "markdown",
   "id": "66136755",
   "metadata": {},
   "source": [
    "1. Binomial Distribution\n",
    "\n",
    "2. Poison Distribution\n",
    "\n",
    "3. Normal Distribution"
   ]
  },
  {
   "cell_type": "markdown",
   "id": "9bd93137",
   "metadata": {},
   "source": [
    "--> Binomial Distribution and Poison Distribution are comes under Descrete Distribution.\n",
    "\n",
    "--> Normal Distribution comes under Contineous Distribution."
   ]
  },
  {
   "cell_type": "markdown",
   "id": "628d0e35",
   "metadata": {},
   "source": [
    "--> Basically we have two types of Variables.\n",
    "\n",
    "1. Discrete Variables\n",
    "\n",
    "2. Contineous Variables\n",
    "\n",
    "--> We use Discrete Distribution(i.e., Binomial and Poison Distributions) for Discrete Variables which are countable.\n",
    "\n",
    "--> We use Contineous Distribution (i.e., Normal Distribution) for Contineous Variables which are measurable."
   ]
  },
  {
   "cell_type": "markdown",
   "id": "939e343c",
   "metadata": {},
   "source": [
    "# Discrete Distribution:"
   ]
  },
  {
   "cell_type": "markdown",
   "id": "274d6dc7",
   "metadata": {},
   "source": [
    "--> The formula for Discrete Distribution is denoted with P(x).This P(x) is called probability mass function(pmf).\n",
    "\n",
    "--> F(x) = cumulative distribution function(cdf)"
   ]
  },
  {
   "cell_type": "markdown",
   "id": "48ff2337",
   "metadata": {},
   "source": [
    "# Contineous Distribution:"
   ]
  },
  {
   "cell_type": "markdown",
   "id": "fee1fd9b",
   "metadata": {},
   "source": [
    "--> The formula of Normal Distribution is denoted by f(x).This f(x) is called Probability density function(pdf).\n",
    "\n",
    "--> F(x) = cumulative distribution function(cdf)"
   ]
  },
  {
   "cell_type": "markdown",
   "id": "89e54310",
   "metadata": {},
   "source": [
    "--> If we are tossed 10 coins, it is very difficult to calculate P(HH).For calculating P(HH) we can use distributions (or) Types of Distribution.\n",
    "\n",
    "--> What kind of distributions is depends on the properties of distribution.\n",
    "\n",
    "--> By doing multiple trails, we can get accurate results.\n",
    "\n",
    "--> Whenever in selection Process, we need to use combinations whereas in arange Process, we need to use permutations."
   ]
  },
  {
   "cell_type": "markdown",
   "id": "a351088f",
   "metadata": {},
   "source": [
    "# Binomial Distribution Properties(BD):"
   ]
  },
  {
   "cell_type": "markdown",
   "id": "6df36996",
   "metadata": {},
   "source": [
    "1. 'n' independent trails\n",
    "\n",
    "2. each trail should have same outcomes"
   ]
  },
  {
   "cell_type": "markdown",
   "id": "a0e82b50",
   "metadata": {},
   "source": [
    "--> success probability is denoted with p.\n",
    "\n",
    "--> failure probability is denoted with q.\n",
    "\n",
    "--> p + q = 1\n",
    "\n",
    "--> Binomial Distribution is used for Exact Probability.\n",
    "\n",
    "--> When we have Exact Probability, we need to calculate pmf."
   ]
  },
  {
   "cell_type": "markdown",
   "id": "41e6f674",
   "metadata": {},
   "source": [
    "# Note:\n",
    "    \n",
    "--> Every Distributionhas cdf means (<=)."
   ]
  }
 ],
 "metadata": {
  "kernelspec": {
   "display_name": "Python 3 (ipykernel)",
   "language": "python",
   "name": "python3"
  },
  "language_info": {
   "codemirror_mode": {
    "name": "ipython",
    "version": 3
   },
   "file_extension": ".py",
   "mimetype": "text/x-python",
   "name": "python",
   "nbconvert_exporter": "python",
   "pygments_lexer": "ipython3",
   "version": "3.9.13"
  }
 },
 "nbformat": 4,
 "nbformat_minor": 5
}
