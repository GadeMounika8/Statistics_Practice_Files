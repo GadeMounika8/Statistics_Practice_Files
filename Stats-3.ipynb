{
 "cells": [
  {
   "cell_type": "code",
   "execution_count": 1,
   "id": "c8c925aa",
   "metadata": {},
   "outputs": [],
   "source": [
    "# importing all required Libraries\n",
    "import numpy as np\n",
    "import pandas as pd\n",
    "import matplotlib.pyplot as plt\n",
    "import seaborn as sns"
   ]
  },
  {
   "cell_type": "code",
   "execution_count": 2,
   "id": "bb4561df",
   "metadata": {},
   "outputs": [],
   "source": [
    "df = pd.read_csv(r\"C:\\Users\\mouni\\Desktop\\Statistics_Practice_Files\\tennis.csv\")"
   ]
  },
  {
   "cell_type": "code",
   "execution_count": 3,
   "id": "a84502f7",
   "metadata": {},
   "outputs": [
    {
     "data": {
      "text/html": [
       "<div>\n",
       "<style scoped>\n",
       "    .dataframe tbody tr th:only-of-type {\n",
       "        vertical-align: middle;\n",
       "    }\n",
       "\n",
       "    .dataframe tbody tr th {\n",
       "        vertical-align: top;\n",
       "    }\n",
       "\n",
       "    .dataframe thead th {\n",
       "        text-align: right;\n",
       "    }\n",
       "</style>\n",
       "<table border=\"1\" class=\"dataframe\">\n",
       "  <thead>\n",
       "    <tr style=\"text-align: right;\">\n",
       "      <th></th>\n",
       "      <th>outlook</th>\n",
       "      <th>temp</th>\n",
       "      <th>humidity</th>\n",
       "      <th>windy</th>\n",
       "      <th>play</th>\n",
       "    </tr>\n",
       "  </thead>\n",
       "  <tbody>\n",
       "    <tr>\n",
       "      <th>0</th>\n",
       "      <td>sunny</td>\n",
       "      <td>hot</td>\n",
       "      <td>high</td>\n",
       "      <td>False</td>\n",
       "      <td>no</td>\n",
       "    </tr>\n",
       "    <tr>\n",
       "      <th>1</th>\n",
       "      <td>sunny</td>\n",
       "      <td>hot</td>\n",
       "      <td>high</td>\n",
       "      <td>True</td>\n",
       "      <td>no</td>\n",
       "    </tr>\n",
       "    <tr>\n",
       "      <th>2</th>\n",
       "      <td>overcast</td>\n",
       "      <td>hot</td>\n",
       "      <td>high</td>\n",
       "      <td>False</td>\n",
       "      <td>yes</td>\n",
       "    </tr>\n",
       "    <tr>\n",
       "      <th>3</th>\n",
       "      <td>rainy</td>\n",
       "      <td>mild</td>\n",
       "      <td>high</td>\n",
       "      <td>False</td>\n",
       "      <td>yes</td>\n",
       "    </tr>\n",
       "    <tr>\n",
       "      <th>4</th>\n",
       "      <td>rainy</td>\n",
       "      <td>cool</td>\n",
       "      <td>normal</td>\n",
       "      <td>False</td>\n",
       "      <td>yes</td>\n",
       "    </tr>\n",
       "    <tr>\n",
       "      <th>5</th>\n",
       "      <td>rainy</td>\n",
       "      <td>cool</td>\n",
       "      <td>normal</td>\n",
       "      <td>True</td>\n",
       "      <td>no</td>\n",
       "    </tr>\n",
       "    <tr>\n",
       "      <th>6</th>\n",
       "      <td>overcast</td>\n",
       "      <td>cool</td>\n",
       "      <td>normal</td>\n",
       "      <td>True</td>\n",
       "      <td>yes</td>\n",
       "    </tr>\n",
       "    <tr>\n",
       "      <th>7</th>\n",
       "      <td>sunny</td>\n",
       "      <td>mild</td>\n",
       "      <td>high</td>\n",
       "      <td>False</td>\n",
       "      <td>no</td>\n",
       "    </tr>\n",
       "    <tr>\n",
       "      <th>8</th>\n",
       "      <td>sunny</td>\n",
       "      <td>cool</td>\n",
       "      <td>normal</td>\n",
       "      <td>False</td>\n",
       "      <td>yes</td>\n",
       "    </tr>\n",
       "    <tr>\n",
       "      <th>9</th>\n",
       "      <td>rainy</td>\n",
       "      <td>mild</td>\n",
       "      <td>normal</td>\n",
       "      <td>False</td>\n",
       "      <td>yes</td>\n",
       "    </tr>\n",
       "    <tr>\n",
       "      <th>10</th>\n",
       "      <td>sunny</td>\n",
       "      <td>mild</td>\n",
       "      <td>normal</td>\n",
       "      <td>True</td>\n",
       "      <td>yes</td>\n",
       "    </tr>\n",
       "    <tr>\n",
       "      <th>11</th>\n",
       "      <td>overcast</td>\n",
       "      <td>mild</td>\n",
       "      <td>high</td>\n",
       "      <td>True</td>\n",
       "      <td>yes</td>\n",
       "    </tr>\n",
       "    <tr>\n",
       "      <th>12</th>\n",
       "      <td>overcast</td>\n",
       "      <td>hot</td>\n",
       "      <td>normal</td>\n",
       "      <td>False</td>\n",
       "      <td>yes</td>\n",
       "    </tr>\n",
       "    <tr>\n",
       "      <th>13</th>\n",
       "      <td>rainy</td>\n",
       "      <td>mild</td>\n",
       "      <td>high</td>\n",
       "      <td>True</td>\n",
       "      <td>no</td>\n",
       "    </tr>\n",
       "  </tbody>\n",
       "</table>\n",
       "</div>"
      ],
      "text/plain": [
       "     outlook  temp humidity  windy play\n",
       "0      sunny   hot     high  False   no\n",
       "1      sunny   hot     high   True   no\n",
       "2   overcast   hot     high  False  yes\n",
       "3      rainy  mild     high  False  yes\n",
       "4      rainy  cool   normal  False  yes\n",
       "5      rainy  cool   normal   True   no\n",
       "6   overcast  cool   normal   True  yes\n",
       "7      sunny  mild     high  False   no\n",
       "8      sunny  cool   normal  False  yes\n",
       "9      rainy  mild   normal  False  yes\n",
       "10     sunny  mild   normal   True  yes\n",
       "11  overcast  mild     high   True  yes\n",
       "12  overcast   hot   normal  False  yes\n",
       "13     rainy  mild     high   True   no"
      ]
     },
     "execution_count": 3,
     "metadata": {},
     "output_type": "execute_result"
    }
   ],
   "source": [
    "df"
   ]
  },
  {
   "cell_type": "markdown",
   "id": "42b1bfe9",
   "metadata": {},
   "source": [
    "# Outlook and Play"
   ]
  },
  {
   "cell_type": "code",
   "execution_count": 4,
   "id": "826fe225",
   "metadata": {},
   "outputs": [
    {
     "data": {
      "text/html": [
       "<div>\n",
       "<style scoped>\n",
       "    .dataframe tbody tr th:only-of-type {\n",
       "        vertical-align: middle;\n",
       "    }\n",
       "\n",
       "    .dataframe tbody tr th {\n",
       "        vertical-align: top;\n",
       "    }\n",
       "\n",
       "    .dataframe thead th {\n",
       "        text-align: right;\n",
       "    }\n",
       "</style>\n",
       "<table border=\"1\" class=\"dataframe\">\n",
       "  <thead>\n",
       "    <tr style=\"text-align: right;\">\n",
       "      <th>play</th>\n",
       "      <th>no</th>\n",
       "      <th>yes</th>\n",
       "    </tr>\n",
       "    <tr>\n",
       "      <th>outlook</th>\n",
       "      <th></th>\n",
       "      <th></th>\n",
       "    </tr>\n",
       "  </thead>\n",
       "  <tbody>\n",
       "    <tr>\n",
       "      <th>overcast</th>\n",
       "      <td>0</td>\n",
       "      <td>4</td>\n",
       "    </tr>\n",
       "    <tr>\n",
       "      <th>rainy</th>\n",
       "      <td>2</td>\n",
       "      <td>3</td>\n",
       "    </tr>\n",
       "    <tr>\n",
       "      <th>sunny</th>\n",
       "      <td>3</td>\n",
       "      <td>2</td>\n",
       "    </tr>\n",
       "  </tbody>\n",
       "</table>\n",
       "</div>"
      ],
      "text/plain": [
       "play      no  yes\n",
       "outlook          \n",
       "overcast   0    4\n",
       "rainy      2    3\n",
       "sunny      3    2"
      ]
     },
     "execution_count": 4,
     "metadata": {},
     "output_type": "execute_result"
    }
   ],
   "source": [
    "pd.crosstab(df['outlook'], df['play'])"
   ]
  },
  {
   "cell_type": "code",
   "execution_count": 5,
   "id": "a99a8dc5",
   "metadata": {},
   "outputs": [
    {
     "data": {
      "text/html": [
       "<div>\n",
       "<style scoped>\n",
       "    .dataframe tbody tr th:only-of-type {\n",
       "        vertical-align: middle;\n",
       "    }\n",
       "\n",
       "    .dataframe tbody tr th {\n",
       "        vertical-align: top;\n",
       "    }\n",
       "\n",
       "    .dataframe thead th {\n",
       "        text-align: right;\n",
       "    }\n",
       "</style>\n",
       "<table border=\"1\" class=\"dataframe\">\n",
       "  <thead>\n",
       "    <tr style=\"text-align: right;\">\n",
       "      <th>play</th>\n",
       "      <th>no</th>\n",
       "      <th>yes</th>\n",
       "      <th>All</th>\n",
       "    </tr>\n",
       "    <tr>\n",
       "      <th>outlook</th>\n",
       "      <th></th>\n",
       "      <th></th>\n",
       "      <th></th>\n",
       "    </tr>\n",
       "  </thead>\n",
       "  <tbody>\n",
       "    <tr>\n",
       "      <th>overcast</th>\n",
       "      <td>0</td>\n",
       "      <td>4</td>\n",
       "      <td>4</td>\n",
       "    </tr>\n",
       "    <tr>\n",
       "      <th>rainy</th>\n",
       "      <td>2</td>\n",
       "      <td>3</td>\n",
       "      <td>5</td>\n",
       "    </tr>\n",
       "    <tr>\n",
       "      <th>sunny</th>\n",
       "      <td>3</td>\n",
       "      <td>2</td>\n",
       "      <td>5</td>\n",
       "    </tr>\n",
       "    <tr>\n",
       "      <th>All</th>\n",
       "      <td>5</td>\n",
       "      <td>9</td>\n",
       "      <td>14</td>\n",
       "    </tr>\n",
       "  </tbody>\n",
       "</table>\n",
       "</div>"
      ],
      "text/plain": [
       "play      no  yes  All\n",
       "outlook               \n",
       "overcast   0    4    4\n",
       "rainy      2    3    5\n",
       "sunny      3    2    5\n",
       "All        5    9   14"
      ]
     },
     "execution_count": 5,
     "metadata": {},
     "output_type": "execute_result"
    }
   ],
   "source": [
    "pd.crosstab(df['outlook'], df['play'], margins = True)"
   ]
  },
  {
   "cell_type": "code",
   "execution_count": 6,
   "id": "de0862e7",
   "metadata": {},
   "outputs": [
    {
     "data": {
      "text/html": [
       "<div>\n",
       "<style scoped>\n",
       "    .dataframe tbody tr th:only-of-type {\n",
       "        vertical-align: middle;\n",
       "    }\n",
       "\n",
       "    .dataframe tbody tr th {\n",
       "        vertical-align: top;\n",
       "    }\n",
       "\n",
       "    .dataframe thead th {\n",
       "        text-align: right;\n",
       "    }\n",
       "</style>\n",
       "<table border=\"1\" class=\"dataframe\">\n",
       "  <thead>\n",
       "    <tr style=\"text-align: right;\">\n",
       "      <th>play</th>\n",
       "      <th>no</th>\n",
       "      <th>yes</th>\n",
       "      <th>All</th>\n",
       "    </tr>\n",
       "    <tr>\n",
       "      <th>outlook</th>\n",
       "      <th></th>\n",
       "      <th></th>\n",
       "      <th></th>\n",
       "    </tr>\n",
       "  </thead>\n",
       "  <tbody>\n",
       "    <tr>\n",
       "      <th>overcast</th>\n",
       "      <td>0.000000</td>\n",
       "      <td>0.285714</td>\n",
       "      <td>0.285714</td>\n",
       "    </tr>\n",
       "    <tr>\n",
       "      <th>rainy</th>\n",
       "      <td>0.142857</td>\n",
       "      <td>0.214286</td>\n",
       "      <td>0.357143</td>\n",
       "    </tr>\n",
       "    <tr>\n",
       "      <th>sunny</th>\n",
       "      <td>0.214286</td>\n",
       "      <td>0.142857</td>\n",
       "      <td>0.357143</td>\n",
       "    </tr>\n",
       "    <tr>\n",
       "      <th>All</th>\n",
       "      <td>0.357143</td>\n",
       "      <td>0.642857</td>\n",
       "      <td>1.000000</td>\n",
       "    </tr>\n",
       "  </tbody>\n",
       "</table>\n",
       "</div>"
      ],
      "text/plain": [
       "play            no       yes       All\n",
       "outlook                               \n",
       "overcast  0.000000  0.285714  0.285714\n",
       "rainy     0.142857  0.214286  0.357143\n",
       "sunny     0.214286  0.142857  0.357143\n",
       "All       0.357143  0.642857  1.000000"
      ]
     },
     "execution_count": 6,
     "metadata": {},
     "output_type": "execute_result"
    }
   ],
   "source": [
    "pd.crosstab(df['outlook'], df['play'], margins = True)/len(df)"
   ]
  },
  {
   "cell_type": "code",
   "execution_count": 7,
   "id": "44bad547",
   "metadata": {},
   "outputs": [
    {
     "data": {
      "text/plain": [
       "(play            no       yes       All\n",
       " outlook                               \n",
       " overcast  0.000000  0.285714  0.285714\n",
       " rainy     0.142857  0.214286  0.357143\n",
       " sunny     0.214286  0.142857  0.357143\n",
       " All       0.357143  0.642857  1.000000,\n",
       " 2)"
      ]
     },
     "execution_count": 7,
     "metadata": {},
     "output_type": "execute_result"
    }
   ],
   "source": [
    "pd.crosstab(df['outlook'], df['play'], margins = True)/len(df), 2"
   ]
  },
  {
   "cell_type": "code",
   "execution_count": 8,
   "id": "eb931d33",
   "metadata": {},
   "outputs": [
    {
     "data": {
      "text/html": [
       "<div>\n",
       "<style scoped>\n",
       "    .dataframe tbody tr th:only-of-type {\n",
       "        vertical-align: middle;\n",
       "    }\n",
       "\n",
       "    .dataframe tbody tr th {\n",
       "        vertical-align: top;\n",
       "    }\n",
       "\n",
       "    .dataframe thead th {\n",
       "        text-align: right;\n",
       "    }\n",
       "</style>\n",
       "<table border=\"1\" class=\"dataframe\">\n",
       "  <thead>\n",
       "    <tr style=\"text-align: right;\">\n",
       "      <th>play</th>\n",
       "      <th>no</th>\n",
       "      <th>yes</th>\n",
       "      <th>All</th>\n",
       "    </tr>\n",
       "    <tr>\n",
       "      <th>outlook</th>\n",
       "      <th></th>\n",
       "      <th></th>\n",
       "      <th></th>\n",
       "    </tr>\n",
       "  </thead>\n",
       "  <tbody>\n",
       "    <tr>\n",
       "      <th>overcast</th>\n",
       "      <td>0.00</td>\n",
       "      <td>0.29</td>\n",
       "      <td>0.29</td>\n",
       "    </tr>\n",
       "    <tr>\n",
       "      <th>rainy</th>\n",
       "      <td>0.14</td>\n",
       "      <td>0.21</td>\n",
       "      <td>0.36</td>\n",
       "    </tr>\n",
       "    <tr>\n",
       "      <th>sunny</th>\n",
       "      <td>0.21</td>\n",
       "      <td>0.14</td>\n",
       "      <td>0.36</td>\n",
       "    </tr>\n",
       "    <tr>\n",
       "      <th>All</th>\n",
       "      <td>0.36</td>\n",
       "      <td>0.64</td>\n",
       "      <td>1.00</td>\n",
       "    </tr>\n",
       "  </tbody>\n",
       "</table>\n",
       "</div>"
      ],
      "text/plain": [
       "play        no   yes   All\n",
       "outlook                   \n",
       "overcast  0.00  0.29  0.29\n",
       "rainy     0.14  0.21  0.36\n",
       "sunny     0.21  0.14  0.36\n",
       "All       0.36  0.64  1.00"
      ]
     },
     "execution_count": 8,
     "metadata": {},
     "output_type": "execute_result"
    }
   ],
   "source": [
    "tennis_ct = np.round(pd.crosstab(df['outlook'], df['play'], margins = True)/len(df), 2)\n",
    "tennis_ct"
   ]
  },
  {
   "cell_type": "markdown",
   "id": "0f6c65f2",
   "metadata": {},
   "source": [
    "# Marginal Probabilities:"
   ]
  },
  {
   "cell_type": "markdown",
   "id": "5a0fa054",
   "metadata": {},
   "source": [
    "p(overcast)\n",
    "\n",
    "P(rainy)\n",
    "\n",
    "p(sunny)\n",
    "\n",
    "p(no)\n",
    "\n",
    "p(yes)"
   ]
  },
  {
   "cell_type": "markdown",
   "id": "e5073a77",
   "metadata": {},
   "source": [
    "# Approach - 1:"
   ]
  },
  {
   "cell_type": "code",
   "execution_count": 9,
   "id": "c580820c",
   "metadata": {},
   "outputs": [
    {
     "data": {
      "text/plain": [
       "0.29"
      ]
     },
     "execution_count": 9,
     "metadata": {},
     "output_type": "execute_result"
    }
   ],
   "source": [
    "p_overcast = tennis_ct.loc['overcast', 'All']\n",
    "p_overcast"
   ]
  },
  {
   "cell_type": "code",
   "execution_count": 10,
   "id": "4a284126",
   "metadata": {},
   "outputs": [
    {
     "data": {
      "text/plain": [
       "0.36"
      ]
     },
     "execution_count": 10,
     "metadata": {},
     "output_type": "execute_result"
    }
   ],
   "source": [
    "p_rainy = tennis_ct.loc['rainy', 'All']\n",
    "p_rainy"
   ]
  },
  {
   "cell_type": "code",
   "execution_count": 11,
   "id": "ad1614e0",
   "metadata": {},
   "outputs": [
    {
     "data": {
      "text/plain": [
       "0.36"
      ]
     },
     "execution_count": 11,
     "metadata": {},
     "output_type": "execute_result"
    }
   ],
   "source": [
    "p_sunny = tennis_ct.loc['sunny', 'All']\n",
    "p_sunny"
   ]
  },
  {
   "cell_type": "markdown",
   "id": "ad4fa120",
   "metadata": {},
   "source": [
    "# Approach - 2:"
   ]
  },
  {
   "cell_type": "code",
   "execution_count": 12,
   "id": "c8579ff6",
   "metadata": {},
   "outputs": [
    {
     "data": {
      "text/html": [
       "<div>\n",
       "<style scoped>\n",
       "    .dataframe tbody tr th:only-of-type {\n",
       "        vertical-align: middle;\n",
       "    }\n",
       "\n",
       "    .dataframe tbody tr th {\n",
       "        vertical-align: top;\n",
       "    }\n",
       "\n",
       "    .dataframe thead th {\n",
       "        text-align: right;\n",
       "    }\n",
       "</style>\n",
       "<table border=\"1\" class=\"dataframe\">\n",
       "  <thead>\n",
       "    <tr style=\"text-align: right;\">\n",
       "      <th>play</th>\n",
       "      <th>no</th>\n",
       "      <th>yes</th>\n",
       "      <th>All</th>\n",
       "    </tr>\n",
       "    <tr>\n",
       "      <th>outlook</th>\n",
       "      <th></th>\n",
       "      <th></th>\n",
       "      <th></th>\n",
       "    </tr>\n",
       "  </thead>\n",
       "  <tbody>\n",
       "    <tr>\n",
       "      <th>overcast</th>\n",
       "      <td>0.00</td>\n",
       "      <td>0.29</td>\n",
       "      <td>0.29</td>\n",
       "    </tr>\n",
       "    <tr>\n",
       "      <th>rainy</th>\n",
       "      <td>0.14</td>\n",
       "      <td>0.21</td>\n",
       "      <td>0.36</td>\n",
       "    </tr>\n",
       "    <tr>\n",
       "      <th>sunny</th>\n",
       "      <td>0.21</td>\n",
       "      <td>0.14</td>\n",
       "      <td>0.36</td>\n",
       "    </tr>\n",
       "    <tr>\n",
       "      <th>All</th>\n",
       "      <td>0.36</td>\n",
       "      <td>0.64</td>\n",
       "      <td>1.00</td>\n",
       "    </tr>\n",
       "  </tbody>\n",
       "</table>\n",
       "</div>"
      ],
      "text/plain": [
       "play        no   yes   All\n",
       "outlook                   \n",
       "overcast  0.00  0.29  0.29\n",
       "rainy     0.14  0.21  0.36\n",
       "sunny     0.21  0.14  0.36\n",
       "All       0.36  0.64  1.00"
      ]
     },
     "execution_count": 12,
     "metadata": {},
     "output_type": "execute_result"
    }
   ],
   "source": [
    "tennis_ct"
   ]
  },
  {
   "cell_type": "code",
   "execution_count": 13,
   "id": "1820ad87",
   "metadata": {},
   "outputs": [
    {
     "data": {
      "text/plain": [
       "0.29"
      ]
     },
     "execution_count": 13,
     "metadata": {},
     "output_type": "execute_result"
    }
   ],
   "source": [
    "tennis_ct.All.overcast"
   ]
  },
  {
   "cell_type": "code",
   "execution_count": 14,
   "id": "0699cb13",
   "metadata": {},
   "outputs": [
    {
     "data": {
      "text/plain": [
       "0.29"
      ]
     },
     "execution_count": 14,
     "metadata": {},
     "output_type": "execute_result"
    }
   ],
   "source": [
    "p_overcast = tennis_ct.All.overcast\n",
    "p_overcast"
   ]
  },
  {
   "cell_type": "code",
   "execution_count": 15,
   "id": "501b7308",
   "metadata": {},
   "outputs": [
    {
     "data": {
      "text/plain": [
       "0.36"
      ]
     },
     "execution_count": 15,
     "metadata": {},
     "output_type": "execute_result"
    }
   ],
   "source": [
    "p_rainy = tennis_ct.All.rainy\n",
    "p_rainy"
   ]
  },
  {
   "cell_type": "code",
   "execution_count": 16,
   "id": "70fb55f5",
   "metadata": {},
   "outputs": [
    {
     "data": {
      "text/plain": [
       "0.36"
      ]
     },
     "execution_count": 16,
     "metadata": {},
     "output_type": "execute_result"
    }
   ],
   "source": [
    "p_sunny = tennis_ct.All.sunny\n",
    "p_sunny"
   ]
  },
  {
   "cell_type": "code",
   "execution_count": 17,
   "id": "00d93eeb",
   "metadata": {},
   "outputs": [
    {
     "data": {
      "text/plain": [
       "0.36"
      ]
     },
     "execution_count": 17,
     "metadata": {},
     "output_type": "execute_result"
    }
   ],
   "source": [
    "tennis_ct['no']['All']"
   ]
  },
  {
   "cell_type": "markdown",
   "id": "ef69c895",
   "metadata": {},
   "source": [
    "          or"
   ]
  },
  {
   "cell_type": "code",
   "execution_count": 18,
   "id": "26b63d25",
   "metadata": {},
   "outputs": [
    {
     "data": {
      "text/plain": [
       "0.36"
      ]
     },
     "execution_count": 18,
     "metadata": {},
     "output_type": "execute_result"
    }
   ],
   "source": [
    "tennis_ct.no.All"
   ]
  },
  {
   "cell_type": "code",
   "execution_count": 19,
   "id": "ac2d47f4",
   "metadata": {},
   "outputs": [],
   "source": [
    "p_no = tennis_ct.no.All"
   ]
  },
  {
   "cell_type": "code",
   "execution_count": 20,
   "id": "857cf1a3",
   "metadata": {},
   "outputs": [],
   "source": [
    "p_yes = tennis_ct.yes.All"
   ]
  },
  {
   "cell_type": "markdown",
   "id": "e311cda4",
   "metadata": {},
   "source": [
    "# Joint Probabilities:"
   ]
  },
  {
   "cell_type": "markdown",
   "id": "bd9f363f",
   "metadata": {},
   "source": [
    "p(overcast and yes)\n",
    "\n",
    "p(overcast and no)\n",
    "\n",
    "p(rainy and yes)\n",
    "\n",
    "p(rainy and no)\n",
    "\n",
    "p(sunny and yes)\n",
    "\n",
    "p(sunny and no)"
   ]
  },
  {
   "cell_type": "code",
   "execution_count": 21,
   "id": "e2338e8d",
   "metadata": {},
   "outputs": [
    {
     "data": {
      "text/html": [
       "<div>\n",
       "<style scoped>\n",
       "    .dataframe tbody tr th:only-of-type {\n",
       "        vertical-align: middle;\n",
       "    }\n",
       "\n",
       "    .dataframe tbody tr th {\n",
       "        vertical-align: top;\n",
       "    }\n",
       "\n",
       "    .dataframe thead th {\n",
       "        text-align: right;\n",
       "    }\n",
       "</style>\n",
       "<table border=\"1\" class=\"dataframe\">\n",
       "  <thead>\n",
       "    <tr style=\"text-align: right;\">\n",
       "      <th>play</th>\n",
       "      <th>no</th>\n",
       "      <th>yes</th>\n",
       "      <th>All</th>\n",
       "    </tr>\n",
       "    <tr>\n",
       "      <th>outlook</th>\n",
       "      <th></th>\n",
       "      <th></th>\n",
       "      <th></th>\n",
       "    </tr>\n",
       "  </thead>\n",
       "  <tbody>\n",
       "    <tr>\n",
       "      <th>overcast</th>\n",
       "      <td>0.00</td>\n",
       "      <td>0.29</td>\n",
       "      <td>0.29</td>\n",
       "    </tr>\n",
       "    <tr>\n",
       "      <th>rainy</th>\n",
       "      <td>0.14</td>\n",
       "      <td>0.21</td>\n",
       "      <td>0.36</td>\n",
       "    </tr>\n",
       "    <tr>\n",
       "      <th>sunny</th>\n",
       "      <td>0.21</td>\n",
       "      <td>0.14</td>\n",
       "      <td>0.36</td>\n",
       "    </tr>\n",
       "    <tr>\n",
       "      <th>All</th>\n",
       "      <td>0.36</td>\n",
       "      <td>0.64</td>\n",
       "      <td>1.00</td>\n",
       "    </tr>\n",
       "  </tbody>\n",
       "</table>\n",
       "</div>"
      ],
      "text/plain": [
       "play        no   yes   All\n",
       "outlook                   \n",
       "overcast  0.00  0.29  0.29\n",
       "rainy     0.14  0.21  0.36\n",
       "sunny     0.21  0.14  0.36\n",
       "All       0.36  0.64  1.00"
      ]
     },
     "execution_count": 21,
     "metadata": {},
     "output_type": "execute_result"
    }
   ],
   "source": [
    "tennis_ct"
   ]
  },
  {
   "cell_type": "code",
   "execution_count": 22,
   "id": "0d8189c0",
   "metadata": {},
   "outputs": [
    {
     "data": {
      "text/plain": [
       "0.0"
      ]
     },
     "execution_count": 22,
     "metadata": {},
     "output_type": "execute_result"
    }
   ],
   "source": [
    "p_over_no = tennis_ct.no.overcast\n",
    "p_over_no"
   ]
  },
  {
   "cell_type": "code",
   "execution_count": 23,
   "id": "3e7d46cc",
   "metadata": {},
   "outputs": [
    {
     "data": {
      "text/plain": [
       "0.29"
      ]
     },
     "execution_count": 23,
     "metadata": {},
     "output_type": "execute_result"
    }
   ],
   "source": [
    "p_over_yes = tennis_ct.yes.overcast\n",
    "p_over_yes"
   ]
  },
  {
   "cell_type": "code",
   "execution_count": 24,
   "id": "a9ded9b1",
   "metadata": {},
   "outputs": [
    {
     "data": {
      "text/plain": [
       "0.14"
      ]
     },
     "execution_count": 24,
     "metadata": {},
     "output_type": "execute_result"
    }
   ],
   "source": [
    "p_rainy_no = tennis_ct.no.rainy\n",
    "p_rainy_no"
   ]
  },
  {
   "cell_type": "code",
   "execution_count": 25,
   "id": "0225d770",
   "metadata": {},
   "outputs": [
    {
     "data": {
      "text/plain": [
       "0.21"
      ]
     },
     "execution_count": 25,
     "metadata": {},
     "output_type": "execute_result"
    }
   ],
   "source": [
    "p_rainy_yes = tennis_ct.yes.rainy\n",
    "p_rainy_yes"
   ]
  },
  {
   "cell_type": "code",
   "execution_count": 26,
   "id": "e601dbaf",
   "metadata": {},
   "outputs": [
    {
     "data": {
      "text/plain": [
       "0.21"
      ]
     },
     "execution_count": 26,
     "metadata": {},
     "output_type": "execute_result"
    }
   ],
   "source": [
    "p_sunny_no = tennis_ct.no.sunny\n",
    "p_sunny_no"
   ]
  },
  {
   "cell_type": "code",
   "execution_count": 27,
   "id": "39f20b5b",
   "metadata": {},
   "outputs": [
    {
     "data": {
      "text/plain": [
       "0.14"
      ]
     },
     "execution_count": 27,
     "metadata": {},
     "output_type": "execute_result"
    }
   ],
   "source": [
    "p_sunny_yes = tennis_ct.yes.sunny\n",
    "p_sunny_yes"
   ]
  },
  {
   "cell_type": "markdown",
   "id": "7a2c8fe7",
   "metadata": {},
   "source": [
    "# Conditional Probabilities:"
   ]
  },
  {
   "cell_type": "markdown",
   "id": "f4b1ac3e",
   "metadata": {},
   "source": [
    "p(overcast|yes) = p(overcast and yes)/p(yes)\n",
    "\n",
    "p(overcast|no) = p(overcast and no)/p(no)\n",
    "\n",
    "p(rainy|yes) = p(rainy and yes)/p(yes)\n",
    "\n",
    "p(rainy|no) = p(rainy and no)/p(no)\n",
    "\n",
    "p(sunny|yes) = p(sunny and yes)/p(yes)\n",
    "\n",
    "p(sunny|no) = p(sunny and no)/p(no)"
   ]
  },
  {
   "cell_type": "code",
   "execution_count": 28,
   "id": "b02fac2d",
   "metadata": {},
   "outputs": [
    {
     "data": {
      "text/plain": [
       "0.45312499999999994"
      ]
     },
     "execution_count": 28,
     "metadata": {},
     "output_type": "execute_result"
    }
   ],
   "source": [
    "p_over_given_yes = p_over_yes/p_yes\n",
    "p_over_given_yes"
   ]
  },
  {
   "cell_type": "code",
   "execution_count": 29,
   "id": "88cb7ff0",
   "metadata": {},
   "outputs": [
    {
     "data": {
      "text/plain": [
       "0.0"
      ]
     },
     "execution_count": 29,
     "metadata": {},
     "output_type": "execute_result"
    }
   ],
   "source": [
    "p_over_given_no = p_over_no/p_no\n",
    "p_over_given_no"
   ]
  },
  {
   "cell_type": "code",
   "execution_count": 30,
   "id": "507f83ce",
   "metadata": {},
   "outputs": [
    {
     "data": {
      "text/plain": [
       "0.328125"
      ]
     },
     "execution_count": 30,
     "metadata": {},
     "output_type": "execute_result"
    }
   ],
   "source": [
    "p_rainy_given_yes = p_rainy_yes/p_yes\n",
    "p_rainy_given_yes"
   ]
  },
  {
   "cell_type": "code",
   "execution_count": 31,
   "id": "b521414c",
   "metadata": {},
   "outputs": [
    {
     "data": {
      "text/plain": [
       "0.38888888888888895"
      ]
     },
     "execution_count": 31,
     "metadata": {},
     "output_type": "execute_result"
    }
   ],
   "source": [
    "p_rainy_given_no = p_rainy_no/p_no\n",
    "p_rainy_given_no"
   ]
  },
  {
   "cell_type": "code",
   "execution_count": 32,
   "id": "7f6a467b",
   "metadata": {},
   "outputs": [
    {
     "data": {
      "text/plain": [
       "0.328125"
      ]
     },
     "execution_count": 32,
     "metadata": {},
     "output_type": "execute_result"
    }
   ],
   "source": [
    "p_sunny_given_yes = p_rainy_yes/p_yes\n",
    "p_sunny_given_yes"
   ]
  },
  {
   "cell_type": "code",
   "execution_count": 33,
   "id": "4d26cb3c",
   "metadata": {},
   "outputs": [
    {
     "data": {
      "text/plain": [
       "0.5833333333333334"
      ]
     },
     "execution_count": 33,
     "metadata": {},
     "output_type": "execute_result"
    }
   ],
   "source": [
    "p_sunny_given_no = p_sunny_no/p_no\n",
    "p_sunny_given_no"
   ]
  },
  {
   "cell_type": "code",
   "execution_count": 36,
   "id": "0d4e32b5",
   "metadata": {},
   "outputs": [
    {
     "name": "stdout",
     "output_type": "stream",
     "text": [
      "sunny\n",
      "sunny\n",
      "overcast\n",
      "rainy\n",
      "rainy\n",
      "rainy\n",
      "overcast\n",
      "sunny\n",
      "sunny\n",
      "rainy\n",
      "sunny\n",
      "overcast\n",
      "overcast\n",
      "rainy\n"
     ]
    }
   ],
   "source": [
    "def prediction(no, yes):\n",
    "    if no > yes:\n",
    "        return 'no'\n",
    "    else:\n",
    "        return 'yes'\n",
    "for val in df.outlook:\n",
    "    print(val)"
   ]
  },
  {
   "cell_type": "code",
   "execution_count": 40,
   "id": "7c9541c4",
   "metadata": {},
   "outputs": [
    {
     "name": "stdout",
     "output_type": "stream",
     "text": [
      "sunny\n",
      "no\n",
      "sunny\n",
      "no\n",
      "overcast\n",
      "rainy\n",
      "rainy\n",
      "rainy\n",
      "overcast\n",
      "sunny\n",
      "no\n",
      "sunny\n",
      "no\n",
      "rainy\n",
      "sunny\n",
      "no\n",
      "overcast\n",
      "overcast\n",
      "rainy\n"
     ]
    }
   ],
   "source": [
    "def prediction(no, yes):\n",
    "    if no > yes:\n",
    "        return 'no'\n",
    "    else:\n",
    "        return 'yes'\n",
    "for val in df.outlook:\n",
    "    print(val)\n",
    "    if val == 'sunny':\n",
    "        print(prediction(p_sunny_given_no, p_sunny_given_yes))\n"
   ]
  },
  {
   "cell_type": "code",
   "execution_count": 41,
   "id": "010f61bc",
   "metadata": {},
   "outputs": [
    {
     "name": "stdout",
     "output_type": "stream",
     "text": [
      "sunny\n",
      "no\n",
      "sunny\n",
      "no\n",
      "overcast\n",
      "rainy\n",
      "rainy\n",
      "rainy\n",
      "overcast\n",
      "sunny\n",
      "no\n",
      "sunny\n",
      "no\n",
      "rainy\n",
      "sunny\n",
      "no\n",
      "overcast\n",
      "overcast\n",
      "rainy\n"
     ]
    },
    {
     "data": {
      "text/plain": [
       "(0.5833333333333334, 0.328125)"
      ]
     },
     "execution_count": 41,
     "metadata": {},
     "output_type": "execute_result"
    }
   ],
   "source": [
    "def prediction(no, yes):\n",
    "    if no > yes:\n",
    "        return 'no'\n",
    "    else:\n",
    "        return 'yes'\n",
    "for val in df.outlook:\n",
    "    print(val)\n",
    "    if val == 'sunny':\n",
    "        print(prediction(p_sunny_given_no, p_sunny_given_yes))\n",
    "p_sunny_given_no, p_sunny_given_yes"
   ]
  },
  {
   "cell_type": "code",
   "execution_count": 38,
   "id": "56393b38",
   "metadata": {},
   "outputs": [
    {
     "name": "stdout",
     "output_type": "stream",
     "text": [
      "sunny\n",
      "sunny\n",
      "overcast\n",
      "rainy\n",
      "rainy\n",
      "rainy\n",
      "overcast\n",
      "sunny\n",
      "sunny\n",
      "rainy\n",
      "sunny\n",
      "overcast\n",
      "overcast\n",
      "rainy\n",
      "sunny\n",
      "no\n",
      "sunny\n",
      "no\n",
      "overcast\n",
      "rainy\n",
      "rainy\n",
      "rainy\n",
      "overcast\n",
      "sunny\n",
      "no\n",
      "sunny\n",
      "no\n",
      "rainy\n",
      "sunny\n",
      "no\n",
      "overcast\n",
      "overcast\n",
      "rainy\n"
     ]
    }
   ],
   "source": [
    "def prediction(no, yes):\n",
    "    if no > yes:\n",
    "        return 'no'\n",
    "    else:\n",
    "        return 'yes'\n",
    "for val in df.outlook:\n",
    "    print(val)\n",
    "for val in df.outlook:\n",
    "    print(val)\n",
    "    if val == 'sunny':\n",
    "        print(prediction(p_sunny_given_no, p_sunny_given_yes))"
   ]
  },
  {
   "cell_type": "code",
   "execution_count": 42,
   "id": "dcdc410f",
   "metadata": {},
   "outputs": [
    {
     "name": "stdout",
     "output_type": "stream",
     "text": [
      "sunny\n",
      "no\n",
      "sunny\n",
      "no\n",
      "overcast\n",
      "yes\n",
      "rainy\n",
      "no\n",
      "rainy\n",
      "no\n",
      "rainy\n",
      "no\n",
      "overcast\n",
      "yes\n",
      "sunny\n",
      "no\n",
      "sunny\n",
      "no\n",
      "rainy\n",
      "no\n",
      "sunny\n",
      "no\n",
      "overcast\n",
      "yes\n",
      "overcast\n",
      "yes\n",
      "rainy\n",
      "no\n"
     ]
    }
   ],
   "source": [
    "for val in df.outlook:\n",
    "    print(val)\n",
    "    if val == 'sunny':\n",
    "        print(prediction(p_sunny_given_no, p_sunny_given_yes))\n",
    "    elif val == 'rainy':\n",
    "        print(prediction(p_rainy_given_no, p_rainy_given_yes))\n",
    "    else:\n",
    "        print(prediction(p_over_given_no, p_over_given_yes))"
   ]
  },
  {
   "cell_type": "code",
   "execution_count": 43,
   "id": "ae4b3237",
   "metadata": {},
   "outputs": [
    {
     "name": "stdout",
     "output_type": "stream",
     "text": [
      "no\n",
      "no\n",
      "yes\n",
      "yes\n",
      "yes\n",
      "yes\n",
      "yes\n",
      "no\n",
      "no\n",
      "yes\n",
      "no\n",
      "yes\n",
      "yes\n",
      "yes\n"
     ]
    }
   ],
   "source": [
    "for val in df.outlook:\n",
    "    if val == 'sunny':\n",
    "        print(prediction(p_sunny_given_no, p_sunny_given_yes))\n",
    "    elif val =='rainy':\n",
    "        print(prediction(p_over_given_no, p_rainy_given_yes))\n",
    "    else:\n",
    "        print(prediction(p_over_given_no, p_over_given_yes))"
   ]
  },
  {
   "cell_type": "code",
   "execution_count": 44,
   "id": "ceddc4a2",
   "metadata": {},
   "outputs": [
    {
     "data": {
      "text/html": [
       "<div>\n",
       "<style scoped>\n",
       "    .dataframe tbody tr th:only-of-type {\n",
       "        vertical-align: middle;\n",
       "    }\n",
       "\n",
       "    .dataframe tbody tr th {\n",
       "        vertical-align: top;\n",
       "    }\n",
       "\n",
       "    .dataframe thead th {\n",
       "        text-align: right;\n",
       "    }\n",
       "</style>\n",
       "<table border=\"1\" class=\"dataframe\">\n",
       "  <thead>\n",
       "    <tr style=\"text-align: right;\">\n",
       "      <th></th>\n",
       "      <th>outlook</th>\n",
       "      <th>temp</th>\n",
       "      <th>humidity</th>\n",
       "      <th>windy</th>\n",
       "      <th>play</th>\n",
       "      <th>new_play</th>\n",
       "    </tr>\n",
       "  </thead>\n",
       "  <tbody>\n",
       "    <tr>\n",
       "      <th>0</th>\n",
       "      <td>sunny</td>\n",
       "      <td>hot</td>\n",
       "      <td>high</td>\n",
       "      <td>False</td>\n",
       "      <td>no</td>\n",
       "      <td>no</td>\n",
       "    </tr>\n",
       "    <tr>\n",
       "      <th>1</th>\n",
       "      <td>sunny</td>\n",
       "      <td>hot</td>\n",
       "      <td>high</td>\n",
       "      <td>True</td>\n",
       "      <td>no</td>\n",
       "      <td>no</td>\n",
       "    </tr>\n",
       "    <tr>\n",
       "      <th>2</th>\n",
       "      <td>overcast</td>\n",
       "      <td>hot</td>\n",
       "      <td>high</td>\n",
       "      <td>False</td>\n",
       "      <td>yes</td>\n",
       "      <td>yes</td>\n",
       "    </tr>\n",
       "    <tr>\n",
       "      <th>3</th>\n",
       "      <td>rainy</td>\n",
       "      <td>mild</td>\n",
       "      <td>high</td>\n",
       "      <td>False</td>\n",
       "      <td>yes</td>\n",
       "      <td>no</td>\n",
       "    </tr>\n",
       "    <tr>\n",
       "      <th>4</th>\n",
       "      <td>rainy</td>\n",
       "      <td>cool</td>\n",
       "      <td>normal</td>\n",
       "      <td>False</td>\n",
       "      <td>yes</td>\n",
       "      <td>no</td>\n",
       "    </tr>\n",
       "    <tr>\n",
       "      <th>5</th>\n",
       "      <td>rainy</td>\n",
       "      <td>cool</td>\n",
       "      <td>normal</td>\n",
       "      <td>True</td>\n",
       "      <td>no</td>\n",
       "      <td>no</td>\n",
       "    </tr>\n",
       "    <tr>\n",
       "      <th>6</th>\n",
       "      <td>overcast</td>\n",
       "      <td>cool</td>\n",
       "      <td>normal</td>\n",
       "      <td>True</td>\n",
       "      <td>yes</td>\n",
       "      <td>yes</td>\n",
       "    </tr>\n",
       "    <tr>\n",
       "      <th>7</th>\n",
       "      <td>sunny</td>\n",
       "      <td>mild</td>\n",
       "      <td>high</td>\n",
       "      <td>False</td>\n",
       "      <td>no</td>\n",
       "      <td>no</td>\n",
       "    </tr>\n",
       "    <tr>\n",
       "      <th>8</th>\n",
       "      <td>sunny</td>\n",
       "      <td>cool</td>\n",
       "      <td>normal</td>\n",
       "      <td>False</td>\n",
       "      <td>yes</td>\n",
       "      <td>no</td>\n",
       "    </tr>\n",
       "    <tr>\n",
       "      <th>9</th>\n",
       "      <td>rainy</td>\n",
       "      <td>mild</td>\n",
       "      <td>normal</td>\n",
       "      <td>False</td>\n",
       "      <td>yes</td>\n",
       "      <td>no</td>\n",
       "    </tr>\n",
       "    <tr>\n",
       "      <th>10</th>\n",
       "      <td>sunny</td>\n",
       "      <td>mild</td>\n",
       "      <td>normal</td>\n",
       "      <td>True</td>\n",
       "      <td>yes</td>\n",
       "      <td>no</td>\n",
       "    </tr>\n",
       "    <tr>\n",
       "      <th>11</th>\n",
       "      <td>overcast</td>\n",
       "      <td>mild</td>\n",
       "      <td>high</td>\n",
       "      <td>True</td>\n",
       "      <td>yes</td>\n",
       "      <td>yes</td>\n",
       "    </tr>\n",
       "    <tr>\n",
       "      <th>12</th>\n",
       "      <td>overcast</td>\n",
       "      <td>hot</td>\n",
       "      <td>normal</td>\n",
       "      <td>False</td>\n",
       "      <td>yes</td>\n",
       "      <td>yes</td>\n",
       "    </tr>\n",
       "    <tr>\n",
       "      <th>13</th>\n",
       "      <td>rainy</td>\n",
       "      <td>mild</td>\n",
       "      <td>high</td>\n",
       "      <td>True</td>\n",
       "      <td>no</td>\n",
       "      <td>no</td>\n",
       "    </tr>\n",
       "  </tbody>\n",
       "</table>\n",
       "</div>"
      ],
      "text/plain": [
       "     outlook  temp humidity  windy play new_play\n",
       "0      sunny   hot     high  False   no       no\n",
       "1      sunny   hot     high   True   no       no\n",
       "2   overcast   hot     high  False  yes      yes\n",
       "3      rainy  mild     high  False  yes       no\n",
       "4      rainy  cool   normal  False  yes       no\n",
       "5      rainy  cool   normal   True   no       no\n",
       "6   overcast  cool   normal   True  yes      yes\n",
       "7      sunny  mild     high  False   no       no\n",
       "8      sunny  cool   normal  False  yes       no\n",
       "9      rainy  mild   normal  False  yes       no\n",
       "10     sunny  mild   normal   True  yes       no\n",
       "11  overcast  mild     high   True  yes      yes\n",
       "12  overcast   hot   normal  False  yes      yes\n",
       "13     rainy  mild     high   True   no       no"
      ]
     },
     "execution_count": 44,
     "metadata": {},
     "output_type": "execute_result"
    }
   ],
   "source": [
    "new_play = []\n",
    "for val in df.outlook:\n",
    "    if val == 'sunny':\n",
    "        new_play.append(prediction(p_sunny_given_no, p_sunny_given_yes))\n",
    "    elif val == 'rainy':\n",
    "        new_play.append(prediction(p_rainy_given_no, p_rainy_given_yes))\n",
    "    else:\n",
    "        new_play.append(prediction(p_over_given_no, p_over_given_yes))\n",
    "df['new_play'] = new_play\n",
    "df"
   ]
  }
 ],
 "metadata": {
  "kernelspec": {
   "display_name": "Python 3 (ipykernel)",
   "language": "python",
   "name": "python3"
  },
  "language_info": {
   "codemirror_mode": {
    "name": "ipython",
    "version": 3
   },
   "file_extension": ".py",
   "mimetype": "text/x-python",
   "name": "python",
   "nbconvert_exporter": "python",
   "pygments_lexer": "ipython3",
   "version": "3.9.13"
  }
 },
 "nbformat": 4,
 "nbformat_minor": 5
}
